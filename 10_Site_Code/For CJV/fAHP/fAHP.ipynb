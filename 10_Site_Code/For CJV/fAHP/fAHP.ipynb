{
 "cells": [
  {
   "cell_type": "code",
   "execution_count": 1,
   "id": "03bc67db",
   "metadata": {},
   "outputs": [
    {
     "name": "stdout",
     "output_type": "stream",
     "text": [
      "        Fuzzy AHP Score  Rank\n",
      "Site4          0.568650     1\n",
      "Site8          0.497243     2\n",
      "Site9          0.458524     3\n",
      "Site5          0.434571     4\n",
      "Site10         0.389047     5\n",
      "Site6          0.354487     6\n",
      "Site1          0.335292     7\n",
      "Site2          0.285307     8\n",
      "Site3          0.251364     9\n",
      "Site7          0.173343    10\n"
     ]
    }
   ],
   "source": [
    "\n",
    "import numpy as np\n",
    "import pandas as pd\n",
    "from scipy.stats import rankdata\n",
    "\n",
    "# Alternatives-by-criteria matrix (8 sites, 4 criteria)\n",
    "matrix = np.array([\n",
    "    [0.087, 0.084, 0.115, 0.111],\n",
    "    [0.066, 0.079, 0.111, 0.102],\n",
    "    [0.044, 0.086, 0.085, 0.088],\n",
    "    [0.088, 0.086, 0.244, 0.078],\n",
    "    [0.285, 0.063, 0.122, 0.068],\n",
    "    [0.040, 0.134, 0.018, 0.144],\n",
    "    [0.030, 0.096, 0.020, 0.148],\n",
    "    [0.039, 0.130, 0.112, 0.105],\n",
    "    [0.109, 0.103, 0.124, 0.089], \n",
    "    [0.014, 0.139, 0.040, 0.069]\n",
    "])\n",
    "\n",
    "sites = ['Site1', 'Site2', 'Site3', 'Site4', 'Site5', 'Site6', 'Site7', 'Site8', 'Site9', 'Site10']\n",
    "criteria = ['C1', 'C2', 'C3', 'C4']\n",
    "criteria_types = ['max', 'max', 'max', 'max'] \n",
    "weights = np.array([0.25377794, 0.35076977, 0.39287723, 0.00257506]) \n",
    "\n",
    "# NORMALIZATION FUNCTION\n",
    "def normalize_matrix(matrix, criteria_types):\n",
    "    norm_matrix = np.zeros_like(matrix, dtype=float)\n",
    "    for j in range(matrix.shape[1]):\n",
    "        col = matrix[:, j]\n",
    "        if criteria_types[j] == 'max':\n",
    "            norm_matrix[:, j] = (col - np.min(col)) / (np.max(col) - np.min(col))\n",
    "        else:  # 'min'\n",
    "            norm_matrix[:, j] = (np.max(col) - col) / (np.max(col) - np.min(col))\n",
    "    return norm_matrix\n",
    "\n",
    "# CALCULATE FUZZY AHP SCORES AND RANKINGS\n",
    "norm_matrix = normalize_matrix(matrix, criteria_types)\n",
    "overall_scores = np.dot(norm_matrix, weights)\n",
    "\n",
    "# Rank using scipy to handle ties properly\n",
    "from scipy.stats import rankdata\n",
    "ranks = rankdata(-overall_scores, method='min')  # Descending order\n",
    "\n",
    "# Display result\n",
    "df_result = pd.DataFrame({\n",
    "    'Fuzzy AHP Score': overall_scores,\n",
    "    'Rank': ranks\n",
    "}, index=sites).sort_values('Rank')\n",
    "\n",
    "print(df_result)\n"
   ]
  },
  {
   "cell_type": "code",
   "execution_count": null,
   "id": "5b9c4f21",
   "metadata": {},
   "outputs": [],
   "source": []
  }
 ],
 "metadata": {
  "kernelspec": {
   "display_name": "base",
   "language": "python",
   "name": "python3"
  },
  "language_info": {
   "codemirror_mode": {
    "name": "ipython",
    "version": 3
   },
   "file_extension": ".py",
   "mimetype": "text/x-python",
   "name": "python",
   "nbconvert_exporter": "python",
   "pygments_lexer": "ipython3",
   "version": "3.12.7"
  }
 },
 "nbformat": 4,
 "nbformat_minor": 5
}
