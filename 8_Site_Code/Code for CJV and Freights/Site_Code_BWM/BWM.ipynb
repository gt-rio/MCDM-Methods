{
 "cells": [
  {
   "cell_type": "code",
   "execution_count": null,
   "id": "3146a551",
   "metadata": {},
   "outputs": [
    {
     "name": "stdout",
     "output_type": "stream",
     "text": [
      "          Score  Rank\n",
      "Site2  0.709707     1\n",
      "Site6  0.594726     2\n",
      "Site1  0.572153     3\n",
      "Site8  0.408266     4\n",
      "Site5  0.384939     5\n",
      "Site7  0.265970     6\n",
      "Site4  0.205041     7\n",
      "Site3  0.188834     8\n"
     ]
    }
   ],
   "source": [
    "# This is for CJV\n",
    "\n",
    "import numpy as np\n",
    "import pandas as pd\n",
    "from scipy.stats import rankdata\n",
    "\n",
    "matrix = np.array([\n",
    "    [0.156, 0.146, 0.172, 0.140],\n",
    "    [0.177, 0.101, 0.307, 0.104],\n",
    "    [0.070, 0.092, 0.058, 0.084],\n",
    "    [0.024, 0.126, 0.047, 0.128],\n",
    "    [0.121, 0.184, 0.038, 0.206],\n",
    "    [0.208, 0.146, 0.152, 0.116],\n",
    "    [0.025, 0.126, 0.068, 0.091],\n",
    "    [0.219, 0.079, 0.159, 0.131]\n",
    "])\n",
    "\n",
    "sites = ['Site1', 'Site2', 'Site3', 'Site4', 'Site5', 'Site6', 'Site7', 'Site8']\n",
    "criteria_types = ['max', 'max', 'max', 'min'] \n",
    "\n",
    "weights = np.array([0.15288888, 0.30888675, 0.45773133, 0.080493041])\n",
    "\n",
    "def normalize_matrix(matrix, criteria_types):\n",
    "    norm_matrix = np.zeros_like(matrix, dtype=float)\n",
    "    for j in range(matrix.shape[1]):\n",
    "        col = matrix[:, j]\n",
    "        if criteria_types[j] == 'max':\n",
    "            norm_matrix[:, j] = (col - np.min(col)) / (np.max(col) - np.min(col))\n",
    "        else:  # 'min'\n",
    "            norm_matrix[:, j] = (np.max(col) - col) / (np.max(col) - np.min(col))\n",
    "    return norm_matrix\n",
    "\n",
    "norm_matrix = normalize_matrix(matrix, criteria_types)\n",
    "scores = np.dot(norm_matrix, weights)\n",
    "ranks = rankdata(-scores, method='min')\n",
    "\n",
    "result_df = pd.DataFrame({\n",
    "    'Score': scores,\n",
    "    'Rank': ranks\n",
    "}, index=sites).sort_values('Rank')\n",
    "\n",
    "print(result_df)\n"
   ]
  },
  {
   "cell_type": "code",
   "execution_count": 1,
   "id": "832f573b",
   "metadata": {},
   "outputs": [
    {
     "name": "stdout",
     "output_type": "stream",
     "text": [
      "          Score  Rank\n",
      "Site2  0.691906     1\n",
      "Site6  0.510181     2\n",
      "Site8  0.414959     3\n",
      "Site5  0.399070     4\n",
      "Site3  0.302318     5\n",
      "Site1  0.275820     6\n",
      "Site7  0.222102     7\n",
      "Site4  0.182458     8\n"
     ]
    }
   ],
   "source": [
    "# This is for Freight\n",
    "\n",
    "import numpy as np\n",
    "import pandas as pd\n",
    "from scipy.stats import rankdata\n",
    "\n",
    "matrix = np.array([\n",
    "    [0.089, 0.106, 0.110, 0.140],\n",
    "    [0.172, 0.099, 0.291, 0.104],\n",
    "    [0.206, 0.095, 0.072, 0.084],\n",
    "    [0.011, 0.132, 0.061, 0.128],\n",
    "    [0.128, 0.243, 0.052, 0.206],\n",
    "    [0.178, 0.120, 0.178, 0.116],\n",
    "    [0.000, 0.132, 0.073, 0.091],\n",
    "    [0.217, 0.074, 0.163, 0.131]\n",
    "])\n",
    "\n",
    "sites = ['Site1', 'Site2', 'Site3', 'Site4', 'Site5', 'Site6', 'Site7', 'Site8']\n",
    "criteria_types = ['max', 'max', 'max', 'min'] \n",
    "\n",
    "weights = np.array([0.15288888, 0.30888675, 0.45773133, 0.080493041])\n",
    "\n",
    "def normalize_matrix(matrix, criteria_types):\n",
    "    norm_matrix = np.zeros_like(matrix, dtype=float)\n",
    "    for j in range(matrix.shape[1]):\n",
    "        col = matrix[:, j]\n",
    "        if criteria_types[j] == 'max':\n",
    "            norm_matrix[:, j] = (col - np.min(col)) / (np.max(col) - np.min(col))\n",
    "        else:  # 'min'\n",
    "            norm_matrix[:, j] = (np.max(col) - col) / (np.max(col) - np.min(col))\n",
    "    return norm_matrix\n",
    "\n",
    "norm_matrix = normalize_matrix(matrix, criteria_types)\n",
    "scores = np.dot(norm_matrix, weights)\n",
    "ranks = rankdata(-scores, method='min')\n",
    "\n",
    "result_df = pd.DataFrame({\n",
    "    'Score': scores,\n",
    "    'Rank': ranks\n",
    "}, index=sites).sort_values('Rank')\n",
    "\n",
    "print(result_df)\n"
   ]
  },
  {
   "cell_type": "code",
   "execution_count": null,
   "id": "4b6ee28e",
   "metadata": {},
   "outputs": [],
   "source": []
  }
 ],
 "metadata": {
  "kernelspec": {
   "display_name": "base",
   "language": "python",
   "name": "python3"
  },
  "language_info": {
   "codemirror_mode": {
    "name": "ipython",
    "version": 3
   },
   "file_extension": ".py",
   "mimetype": "text/x-python",
   "name": "python",
   "nbconvert_exporter": "python",
   "pygments_lexer": "ipython3",
   "version": "3.12.7"
  }
 },
 "nbformat": 4,
 "nbformat_minor": 5
}
