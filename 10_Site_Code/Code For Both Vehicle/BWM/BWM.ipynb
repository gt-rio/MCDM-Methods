{
 "cells": [
  {
   "cell_type": "code",
   "execution_count": 1,
   "id": "0f3f51b8",
   "metadata": {},
   "outputs": [
    {
     "name": "stdout",
     "output_type": "stream",
     "text": [
      "           Score  Rank\n",
      "Site4   0.674290     1\n",
      "Site8   0.509604     2\n",
      "Site9   0.485543     3\n",
      "Site5   0.439567     4\n",
      "Site10  0.437858     5\n",
      "Site1   0.393513     6\n",
      "Site2   0.324936     7\n",
      "Site6   0.307391     8\n",
      "Site3   0.266992     9\n",
      "Site7   0.140725    10\n"
     ]
    }
   ],
   "source": [
    "\n",
    "import numpy as np\n",
    "import pandas as pd\n",
    "from scipy.stats import rankdata\n",
    "\n",
    "matrix = np.array([\n",
    "    [0.168, 0.083, 0.107, 0.111],\n",
    "    [0.090, 0.078, 0.103, 0.102],\n",
    "    [0.060, 0.075, 0.083, 0.088],\n",
    "    [0.073, 0.091, 0.242, 0.078],\n",
    "    [0.249, 0.063, 0.120, 0.068],\n",
    "    [0.033, 0.139, 0.020, 0.144],\n",
    "    [0.025, 0.095, 0.025, 0.148],\n",
    "    [0.032, 0.130, 0.116, 0.105],\n",
    "    [0.091, 0.103, 0.128, 0.089], \n",
    "    [0.012, 0.144, 0.044, 0.069]\n",
    "])\n",
    "\n",
    "sites = ['Site1', 'Site2', 'Site3', 'Site4', 'Site5', 'Site6', 'Site7', 'Site8', 'Site9', 'Site10']\n",
    "criteria_types = ['max', 'max', 'max', 'min'] \n",
    "\n",
    "weights = np.array([0.15288888, 0.30888675, 0.45773133, 0.080493041])\n",
    "\n",
    "def normalize_matrix(matrix, criteria_types):\n",
    "    norm_matrix = np.zeros_like(matrix, dtype=float)\n",
    "    for j in range(matrix.shape[1]):\n",
    "        col = matrix[:, j]\n",
    "        if criteria_types[j] == 'max':\n",
    "            norm_matrix[:, j] = (col - np.min(col)) / (np.max(col) - np.min(col))\n",
    "        else:  # 'min'\n",
    "            norm_matrix[:, j] = (np.max(col) - col) / (np.max(col) - np.min(col))\n",
    "    return norm_matrix\n",
    "\n",
    "norm_matrix = normalize_matrix(matrix, criteria_types)\n",
    "scores = np.dot(norm_matrix, weights)\n",
    "ranks = rankdata(-scores, method='min')\n",
    "\n",
    "result_df = pd.DataFrame({\n",
    "    'Score': scores,\n",
    "    'Rank': ranks\n",
    "}, index=sites).sort_values('Rank')\n",
    "\n",
    "print(result_df)\n"
   ]
  },
  {
   "cell_type": "code",
   "execution_count": null,
   "id": "10bd3428",
   "metadata": {},
   "outputs": [],
   "source": []
  }
 ],
 "metadata": {
  "kernelspec": {
   "display_name": "base",
   "language": "python",
   "name": "python3"
  },
  "language_info": {
   "codemirror_mode": {
    "name": "ipython",
    "version": 3
   },
   "file_extension": ".py",
   "mimetype": "text/x-python",
   "name": "python",
   "nbconvert_exporter": "python",
   "pygments_lexer": "ipython3",
   "version": "3.12.7"
  }
 },
 "nbformat": 4,
 "nbformat_minor": 5
}
