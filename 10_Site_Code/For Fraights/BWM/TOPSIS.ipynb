{
 "cells": [
  {
   "cell_type": "code",
   "execution_count": 1,
   "id": "e5d2a077",
   "metadata": {},
   "outputs": [
    {
     "name": "stdout",
     "output_type": "stream",
     "text": [
      "           C1     C2     C3     C4  TOPSIS Score  Rank\n",
      "Site4   0.029  0.088  0.235  0.078      0.664684     1\n",
      "Site8   0.029  0.155  0.139  0.105      0.495685     2\n",
      "Site5   0.306  0.055  0.113  0.068      0.465258     3\n",
      "Site9   0.014  0.083  0.150  0.089      0.463206     4\n",
      "Site1   0.191  0.081  0.067  0.111      0.281229     5\n",
      "Site10  0.010  0.142  0.067  0.069      0.270880     6\n",
      "Site6   0.038  0.154  0.033  0.144      0.252921     7\n",
      "Site3   0.036  0.083  0.076  0.088      0.204165     8\n",
      "Site2   0.082  0.059  0.063  0.102      0.162150     9\n",
      "Site7   0.014  0.100  0.047  0.148      0.154138    10\n"
     ]
    }
   ],
   "source": [
    "\n",
    "import numpy as np\n",
    "import pandas as pd\n",
    "\n",
    "criteria = ['C1', 'C2', 'C3', 'C4']\n",
    "sites = ['Site1', 'Site2', 'Site3', 'Site4', 'Site5', 'Site6', 'Site7', 'Site8', 'Site9', 'Site10']\n",
    "\n",
    "matrix = np.array([\n",
    "    [0.191, 0.081, 0.067, 0.111],\n",
    "    [0.082, 0.059, 0.063, 0.102],\n",
    "    [0.036, 0.083, 0.076, 0.088],\n",
    "    [0.029, 0.088, 0.235, 0.078],\n",
    "    [0.306, 0.055, 0.113, 0.068],\n",
    "    [0.038, 0.154, 0.033, 0.144],\n",
    "    [0.014, 0.100, 0.047, 0.148],\n",
    "    [0.029, 0.155, 0.139, 0.105],\n",
    "    [0.014, 0.083, 0.150, 0.089], \n",
    "    [0.010, 0.142, 0.067, 0.069]\n",
    "])\n",
    "\n",
    "weights = np.array([0.15288888, 0.30888675, 0.45773133, 0.080493041])\n",
    "impacts = ['+', '+', '+', '+']\n",
    "\n",
    "def topsis(matrix, weights, impacts, sites, criteria):\n",
    "    # Step 1: Normalize the decision matrix\n",
    "    norm_matrix = matrix / np.sqrt((matrix ** 2).sum(axis=0))\n",
    "    # Step 2: Multiply by weights\n",
    "    weighted_matrix = norm_matrix * weights\n",
    "\n",
    "    # Step 3: Determine ideal best and worst for each criterion\n",
    "    ideal_best = np.array([\n",
    "        weighted_matrix[:, j].max() if impacts[j] == '+' else weighted_matrix[:, j].min()\n",
    "        for j in range(weighted_matrix.shape[1])\n",
    "    ])\n",
    "    ideal_worst = np.array([\n",
    "        weighted_matrix[:, j].min() if impacts[j] == '+' else weighted_matrix[:, j].max()\n",
    "        for j in range(weighted_matrix.shape[1])\n",
    "    ])\n",
    "\n",
    "    # Step 4: Calculate distances to ideal best and worst\n",
    "    dist_best = np.sqrt(((weighted_matrix - ideal_best) ** 2).sum(axis=1))\n",
    "    dist_worst = np.sqrt(((weighted_matrix - ideal_worst) ** 2).sum(axis=1))\n",
    "\n",
    "    # Step 5: Calculate TOPSIS scores\n",
    "    score = dist_worst / (dist_best + dist_worst)\n",
    "\n",
    "    # Step 6: Ranking\n",
    "    ranking = (-score).argsort().argsort() + 1\n",
    "\n",
    "\n",
    "    # Prepare DataFrame for output\n",
    "    df = pd.DataFrame(matrix, columns=criteria, index=sites)\n",
    "    df['TOPSIS Score'] = score\n",
    "    df['Rank'] = ranking\n",
    "    df = df.sort_values('Rank') \n",
    "    return df\n",
    "\n",
    "# Run the analysis\n",
    "result_df = topsis(matrix, weights, impacts, sites, criteria)\n",
    "print(result_df)\n"
   ]
  },
  {
   "cell_type": "code",
   "execution_count": null,
   "id": "3f856503",
   "metadata": {},
   "outputs": [],
   "source": []
  }
 ],
 "metadata": {
  "kernelspec": {
   "display_name": "base",
   "language": "python",
   "name": "python3"
  },
  "language_info": {
   "codemirror_mode": {
    "name": "ipython",
    "version": 3
   },
   "file_extension": ".py",
   "mimetype": "text/x-python",
   "name": "python",
   "nbconvert_exporter": "python",
   "pygments_lexer": "ipython3",
   "version": "3.12.7"
  }
 },
 "nbformat": 4,
 "nbformat_minor": 5
}
