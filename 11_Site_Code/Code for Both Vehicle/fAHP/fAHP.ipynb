{
 "cells": [
  {
   "cell_type": "code",
   "execution_count": 1,
   "id": "96dc0b93",
   "metadata": {},
   "outputs": [
    {
     "name": "stdout",
     "output_type": "stream",
     "text": [
      "        Fuzzy AHP Score  Rank\n",
      "Site5          0.568219     1\n",
      "Site9          0.484736     2\n",
      "Site10         0.435149     3\n",
      "Site6          0.431550     4\n",
      "Site11         0.395249     5\n",
      "Site1          0.391102     6\n",
      "Site7          0.361988     7\n",
      "Site3          0.275482     8\n",
      "Site2          0.262556     9\n",
      "Site4          0.222392    10\n",
      "Site8          0.171534    11\n"
     ]
    }
   ],
   "source": [
    "\n",
    "import numpy as np\n",
    "import pandas as pd\n",
    "from scipy.stats import rankdata\n",
    "\n",
    "# Alternatives-by-criteria matrix (8 sites, 4 criteria)\n",
    "matrix = np.array([\n",
    "    [0.156, 0.075, 0.099, 0.101],\n",
    "    [0.081, 0.072, 0.081, 0.093],\n",
    "    [0.055, 0.086, 0.067, 0.090],\n",
    "    [0.055, 0.070, 0.080, 0.080],\n",
    "    [0.067, 0.081, 0.238, 0.071],\n",
    "    [0.243, 0.057, 0.117, 0.062],\n",
    "    [0.032, 0.128, 0.017, 0.131],\n",
    "    [0.023, 0.088, 0.022, 0.134],\n",
    "    [0.030, 0.119, 0.112, 0.095],\n",
    "    [0.081, 0.092, 0.125, 0.081],\n",
    "    [0.011, 0.131, 0.042, 0.063]\n",
    "])\n",
    "\n",
    "sites = ['Site1', 'Site2', 'Site3', 'Site4', 'Site5', 'Site6', 'Site7', 'Site8', 'Site9', 'Site10', 'Site11']\n",
    "criteria = ['C1', 'C2', 'C3', 'C4']\n",
    "criteria_types = ['max', 'max', 'max', 'max'] \n",
    "weights = np.array([0.25377794, 0.35076977, 0.39287723, 0.00257506]) \n",
    "\n",
    "# NORMALIZATION FUNCTION\n",
    "def normalize_matrix(matrix, criteria_types):\n",
    "    norm_matrix = np.zeros_like(matrix, dtype=float)\n",
    "    for j in range(matrix.shape[1]):\n",
    "        col = matrix[:, j]\n",
    "        if criteria_types[j] == 'max':\n",
    "            norm_matrix[:, j] = (col - np.min(col)) / (np.max(col) - np.min(col))\n",
    "        else:  # 'min'\n",
    "            norm_matrix[:, j] = (np.max(col) - col) / (np.max(col) - np.min(col))\n",
    "    return norm_matrix\n",
    "\n",
    "# CALCULATE FUZZY AHP SCORES AND RANKINGS\n",
    "norm_matrix = normalize_matrix(matrix, criteria_types)\n",
    "overall_scores = np.dot(norm_matrix, weights)\n",
    "\n",
    "# Rank using scipy to handle ties properly\n",
    "from scipy.stats import rankdata\n",
    "ranks = rankdata(-overall_scores, method='min')  # Descending order\n",
    "\n",
    "# Display result\n",
    "df_result = pd.DataFrame({\n",
    "    'Fuzzy AHP Score': overall_scores,\n",
    "    'Rank': ranks\n",
    "}, index=sites).sort_values('Rank')\n",
    "\n",
    "print(df_result)\n"
   ]
  },
  {
   "cell_type": "code",
   "execution_count": null,
   "id": "db14ae3a",
   "metadata": {},
   "outputs": [],
   "source": []
  }
 ],
 "metadata": {
  "kernelspec": {
   "display_name": "base",
   "language": "python",
   "name": "python3"
  },
  "language_info": {
   "codemirror_mode": {
    "name": "ipython",
    "version": 3
   },
   "file_extension": ".py",
   "mimetype": "text/x-python",
   "name": "python",
   "nbconvert_exporter": "python",
   "pygments_lexer": "ipython3",
   "version": "3.12.7"
  }
 },
 "nbformat": 4,
 "nbformat_minor": 5
}
