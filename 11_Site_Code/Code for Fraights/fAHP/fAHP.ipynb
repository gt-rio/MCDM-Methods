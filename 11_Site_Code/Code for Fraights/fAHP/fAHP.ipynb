{
 "cells": [
  {
   "cell_type": "code",
   "execution_count": 1,
   "id": "7385bb79",
   "metadata": {},
   "outputs": [
    {
     "name": "stdout",
     "output_type": "stream",
     "text": [
      "        Fuzzy AHP Score  Rank\n",
      "Site9          0.569572     1\n",
      "Site5          0.520113     2\n",
      "Site6          0.408606     3\n",
      "Site7          0.374372     4\n",
      "Site11         0.368920     5\n",
      "Site10         0.320987     6\n",
      "Site1          0.300977     7\n",
      "Site4          0.205576     8\n",
      "Site8          0.195983     9\n",
      "Site2          0.104806    10\n",
      "Site3          0.081947    11\n"
     ]
    }
   ],
   "source": [
    "\n",
    "import numpy as np\n",
    "import pandas as pd\n",
    "from scipy.stats import rankdata\n",
    "\n",
    "# Alternatives-by-criteria matrix (8 sites, 4 criteria)\n",
    "matrix = np.array([\n",
    "    [0.181, 0.074, 0.067, 0.101],\n",
    "    [0.078, 0.055, 0.049, 0.093],\n",
    "    [0.021, 0.069, 0.035, 0.09],\n",
    "    [0.033, 0.078, 0.076, 0.08],\n",
    "    [0.028, 0.081, 0.235, 0.071],\n",
    "    [0.304, 0.052, 0.112, 0.062],\n",
    "    [0.038, 0.143, 0.032, 0.131],\n",
    "    [0.014, 0.095, 0.045, 0.134],\n",
    "    [0.028, 0.144, 0.136, 0.095],\n",
    "    [0.014, 0.076, 0.148, 0.081],\n",
    "    [0.009, 0.132, 0.065, 0.063]\n",
    "])\n",
    "\n",
    "sites = ['Site1', 'Site2', 'Site3', 'Site4', 'Site5', 'Site6', 'Site7', 'Site8', 'Site9', 'Site10', 'Site11']\n",
    "criteria = ['C1', 'C2', 'C3', 'C4']\n",
    "criteria_types = ['max', 'max', 'max', 'max'] \n",
    "weights = np.array([0.25377794, 0.35076977, 0.39287723, 0.00257506]) \n",
    "\n",
    "# NORMALIZATION FUNCTION\n",
    "def normalize_matrix(matrix, criteria_types):\n",
    "    norm_matrix = np.zeros_like(matrix, dtype=float)\n",
    "    for j in range(matrix.shape[1]):\n",
    "        col = matrix[:, j]\n",
    "        if criteria_types[j] == 'max':\n",
    "            norm_matrix[:, j] = (col - np.min(col)) / (np.max(col) - np.min(col))\n",
    "        else:  # 'min'\n",
    "            norm_matrix[:, j] = (np.max(col) - col) / (np.max(col) - np.min(col))\n",
    "    return norm_matrix\n",
    "\n",
    "# CALCULATE FUZZY AHP SCORES AND RANKINGS\n",
    "norm_matrix = normalize_matrix(matrix, criteria_types)\n",
    "overall_scores = np.dot(norm_matrix, weights)\n",
    "\n",
    "# Rank using scipy to handle ties properly\n",
    "from scipy.stats import rankdata\n",
    "ranks = rankdata(-overall_scores, method='min')  # Descending order\n",
    "\n",
    "# Display result\n",
    "df_result = pd.DataFrame({\n",
    "    'Fuzzy AHP Score': overall_scores,\n",
    "    'Rank': ranks\n",
    "}, index=sites).sort_values('Rank')\n",
    "\n",
    "print(df_result)\n"
   ]
  },
  {
   "cell_type": "code",
   "execution_count": null,
   "id": "dc184602",
   "metadata": {},
   "outputs": [],
   "source": []
  }
 ],
 "metadata": {
  "kernelspec": {
   "display_name": "base",
   "language": "python",
   "name": "python3"
  },
  "language_info": {
   "codemirror_mode": {
    "name": "ipython",
    "version": 3
   },
   "file_extension": ".py",
   "mimetype": "text/x-python",
   "name": "python",
   "nbconvert_exporter": "python",
   "pygments_lexer": "ipython3",
   "version": "3.12.7"
  }
 },
 "nbformat": 4,
 "nbformat_minor": 5
}
