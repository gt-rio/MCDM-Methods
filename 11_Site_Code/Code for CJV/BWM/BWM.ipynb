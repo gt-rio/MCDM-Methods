{
 "cells": [
  {
   "cell_type": "code",
   "execution_count": 1,
   "id": "0ce6bd52",
   "metadata": {},
   "outputs": [
    {
     "name": "stdout",
     "output_type": "stream",
     "text": [
      "           Score  Rank\n",
      "Site5   0.651873     1\n",
      "Site9   0.519984     2\n",
      "Site10  0.481578     3\n",
      "Site6   0.441813     4\n",
      "Site11  0.435261     5\n",
      "Site1   0.336137     6\n",
      "Site3   0.320033     7\n",
      "Site7   0.308758     8\n",
      "Site4   0.304246     9\n",
      "Site2   0.286076    10\n",
      "Site8   0.153560    11\n"
     ]
    }
   ],
   "source": [
    "\n",
    "import numpy as np\n",
    "import pandas as pd\n",
    "from scipy.stats import rankdata\n",
    "\n",
    "matrix = np.array([\n",
    "    [0.081, 0.075, 0.105, 0.101],\n",
    "    [0.058, 0.073, 0.087, 0.093],\n",
    "    [0.052, 0.087, 0.073, 0.09],\n",
    "    [0.039, 0.079, 0.081, 0.08],\n",
    "    [0.080, 0.077, 0.239, 0.071],\n",
    "    [0.278, 0.058, 0.117, 0.062],\n",
    "    [0.038, 0.123, 0.015, 0.131],\n",
    "    [0.028, 0.089, 0.018, 0.134],\n",
    "    [0.036, 0.119, 0.108, 0.095],\n",
    "    [0.098, 0.093, 0.121, 0.081],\n",
    "    [0.013, 0.127, 0.038, 0.063]\n",
    "])\n",
    "\n",
    "sites = ['Site1', 'Site2', 'Site3', 'Site4', 'Site5', 'Site6', 'Site7', 'Site8', 'Site9', 'Site10', 'Site11']\n",
    "criteria_types = ['max', 'max', 'max', 'min'] \n",
    "\n",
    "weights = np.array([0.15288888, 0.30888675, 0.45773133, 0.080493041])\n",
    "\n",
    "def normalize_matrix(matrix, criteria_types):\n",
    "    norm_matrix = np.zeros_like(matrix, dtype=float)\n",
    "    for j in range(matrix.shape[1]):\n",
    "        col = matrix[:, j]\n",
    "        if criteria_types[j] == 'max':\n",
    "            norm_matrix[:, j] = (col - np.min(col)) / (np.max(col) - np.min(col))\n",
    "        else:  # 'min'\n",
    "            norm_matrix[:, j] = (np.max(col) - col) / (np.max(col) - np.min(col))\n",
    "    return norm_matrix\n",
    "\n",
    "norm_matrix = normalize_matrix(matrix, criteria_types)\n",
    "scores = np.dot(norm_matrix, weights)\n",
    "ranks = rankdata(-scores, method='min')\n",
    "\n",
    "result_df = pd.DataFrame({\n",
    "    'Score': scores,\n",
    "    'Rank': ranks\n",
    "}, index=sites).sort_values('Rank')\n",
    "\n",
    "print(result_df)\n"
   ]
  },
  {
   "cell_type": "code",
   "execution_count": null,
   "id": "6032d1f6",
   "metadata": {},
   "outputs": [],
   "source": []
  }
 ],
 "metadata": {
  "kernelspec": {
   "display_name": "base",
   "language": "python",
   "name": "python3"
  },
  "language_info": {
   "codemirror_mode": {
    "name": "ipython",
    "version": 3
   },
   "file_extension": ".py",
   "mimetype": "text/x-python",
   "name": "python",
   "nbconvert_exporter": "python",
   "pygments_lexer": "ipython3",
   "version": "3.12.7"
  }
 },
 "nbformat": 4,
 "nbformat_minor": 5
}
