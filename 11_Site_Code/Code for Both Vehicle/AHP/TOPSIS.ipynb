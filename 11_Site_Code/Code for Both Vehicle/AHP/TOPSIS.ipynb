{
 "cells": [
  {
   "cell_type": "code",
   "execution_count": 1,
   "id": "099f3cca",
   "metadata": {},
   "outputs": [
    {
     "name": "stdout",
     "output_type": "stream",
     "text": [
      "           C1     C2     C3     C4  TOPSIS Score  Rank\n",
      "Site5   0.067  0.081  0.238  0.071      0.741851     1\n",
      "Site6   0.243  0.057  0.117  0.062      0.500474     2\n",
      "Site10  0.081  0.092  0.125  0.081      0.463292     3\n",
      "Site9   0.030  0.119  0.112  0.095      0.412906     4\n",
      "Site1   0.156  0.075  0.099  0.101      0.402080     5\n",
      "Site2   0.081  0.072  0.081  0.093      0.287795     6\n",
      "Site4   0.055  0.070  0.080  0.080      0.268767     7\n",
      "Site3   0.055  0.086  0.067  0.090      0.232531     8\n",
      "Site11  0.011  0.131  0.042  0.063      0.217291     9\n",
      "Site7   0.032  0.128  0.017  0.131      0.187688    10\n",
      "Site8   0.023  0.088  0.022  0.134      0.104802    11\n"
     ]
    }
   ],
   "source": [
    "\n",
    "import numpy as np\n",
    "import pandas as pd\n",
    "\n",
    "criteria = ['C1', 'C2', 'C3', 'C4']\n",
    "sites = ['Site1', 'Site2', 'Site3', 'Site4', 'Site5', 'Site6', 'Site7', 'Site8', 'Site9', 'Site10', 'Site11']\n",
    "\n",
    "matrix = np.array([\n",
    "    [0.156, 0.075, 0.099, 0.101],\n",
    "    [0.081, 0.072, 0.081, 0.093],\n",
    "    [0.055, 0.086, 0.067, 0.090],\n",
    "    [0.055, 0.070, 0.080, 0.080],\n",
    "    [0.067, 0.081, 0.238, 0.071],\n",
    "    [0.243, 0.057, 0.117, 0.062],\n",
    "    [0.032, 0.128, 0.017, 0.131],\n",
    "    [0.023, 0.088, 0.022, 0.134],\n",
    "    [0.030, 0.119, 0.112, 0.095],\n",
    "    [0.081, 0.092, 0.125, 0.081],\n",
    "    [0.011, 0.131, 0.042, 0.063]\n",
    "])\n",
    "\n",
    "weights = np.array([0.16376103, 0.29605439, 0.46393757, 0.076247])\n",
    "impacts = ['+', '+', '+', '+']\n",
    "\n",
    "def topsis(matrix, weights, impacts, sites, criteria):\n",
    "    # Step 1: Normalize the decision matrix\n",
    "    norm_matrix = matrix / np.sqrt((matrix ** 2).sum(axis=0))\n",
    "    # Step 2: Multiply by weights\n",
    "    weighted_matrix = norm_matrix * weights\n",
    "\n",
    "    # Step 3: Determine ideal best and worst for each criterion\n",
    "    ideal_best = np.array([\n",
    "        weighted_matrix[:, j].max() if impacts[j] == '+' else weighted_matrix[:, j].min()\n",
    "        for j in range(weighted_matrix.shape[1])\n",
    "    ])\n",
    "    ideal_worst = np.array([\n",
    "        weighted_matrix[:, j].min() if impacts[j] == '+' else weighted_matrix[:, j].max()\n",
    "        for j in range(weighted_matrix.shape[1])\n",
    "    ])\n",
    "\n",
    "    # Step 4: Calculate distances to ideal best and worst\n",
    "    dist_best = np.sqrt(((weighted_matrix - ideal_best) ** 2).sum(axis=1))\n",
    "    dist_worst = np.sqrt(((weighted_matrix - ideal_worst) ** 2).sum(axis=1))\n",
    "\n",
    "    # Step 5: Calculate TOPSIS scores\n",
    "    score = dist_worst / (dist_best + dist_worst)\n",
    "\n",
    "    # Step 6: Ranking\n",
    "    ranking = (-score).argsort().argsort() + 1\n",
    "\n",
    "\n",
    "    # Prepare DataFrame for output\n",
    "    df = pd.DataFrame(matrix, columns=criteria, index=sites)\n",
    "    df['TOPSIS Score'] = score\n",
    "    df['Rank'] = ranking\n",
    "    df = df.sort_values('Rank') \n",
    "    return df\n",
    "\n",
    "# Run the analysis\n",
    "result_df = topsis(matrix, weights, impacts, sites, criteria)\n",
    "print(result_df)\n"
   ]
  },
  {
   "cell_type": "code",
   "execution_count": null,
   "id": "c3118528",
   "metadata": {},
   "outputs": [],
   "source": []
  }
 ],
 "metadata": {
  "kernelspec": {
   "display_name": "base",
   "language": "python",
   "name": "python3"
  },
  "language_info": {
   "codemirror_mode": {
    "name": "ipython",
    "version": 3
   },
   "file_extension": ".py",
   "mimetype": "text/x-python",
   "name": "python",
   "nbconvert_exporter": "python",
   "pygments_lexer": "ipython3",
   "version": "3.12.7"
  }
 },
 "nbformat": 4,
 "nbformat_minor": 5
}
