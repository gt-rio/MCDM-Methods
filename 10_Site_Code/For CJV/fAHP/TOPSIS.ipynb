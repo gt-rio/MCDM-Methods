{
 "cells": [
  {
   "cell_type": "code",
   "execution_count": 1,
   "id": "e8c0e3ce",
   "metadata": {},
   "outputs": [
    {
     "name": "stdout",
     "output_type": "stream",
     "text": [
      "           C1     C2     C3     C4  TOPSIS Score  Rank\n",
      "Site4   0.088  0.086  0.244  0.078      0.613070     1\n",
      "Site5   0.285  0.063  0.122  0.068      0.598230     2\n",
      "Site9   0.109  0.103  0.124  0.089      0.428471     3\n",
      "Site1   0.087  0.084  0.115  0.111      0.361861     4\n",
      "Site8   0.039  0.130  0.112  0.105      0.351983     5\n",
      "Site2   0.066  0.079  0.111  0.102      0.323862     6\n",
      "Site3   0.044  0.086  0.085  0.088      0.237802     7\n",
      "Site10  0.014  0.139  0.040  0.069      0.224432     8\n",
      "Site6   0.040  0.134  0.018  0.144      0.208186     9\n",
      "Site7   0.030  0.096  0.020  0.148      0.109153    10\n"
     ]
    }
   ],
   "source": [
    "\n",
    "import numpy as np\n",
    "import pandas as pd\n",
    "\n",
    "criteria = ['C1', 'C2', 'C3', 'C4']\n",
    "sites = ['Site1', 'Site2', 'Site3', 'Site4', 'Site5', 'Site6', 'Site7', 'Site8', 'Site9', 'Site10']\n",
    "\n",
    "matrix = np.array([\n",
    "    [0.087, 0.084, 0.115, 0.111],\n",
    "    [0.066, 0.079, 0.111, 0.102],\n",
    "    [0.044, 0.086, 0.085, 0.088],\n",
    "    [0.088, 0.086, 0.244, 0.078],\n",
    "    [0.285, 0.063, 0.122, 0.068],\n",
    "    [0.040, 0.134, 0.018, 0.144],\n",
    "    [0.030, 0.096, 0.020, 0.148],\n",
    "    [0.039, 0.130, 0.112, 0.105],\n",
    "    [0.109, 0.103, 0.124, 0.089], \n",
    "    [0.014, 0.139, 0.040, 0.069]\n",
    "])\n",
    "\n",
    "weights = np.array([0.25377794, 0.35076977, 0.39287723, 0.00257506])\n",
    "impacts = ['+', '+', '+', '+']\n",
    "\n",
    "def topsis(matrix, weights, impacts, sites, criteria):\n",
    "    # Step 1: Normalize the decision matrix\n",
    "    norm_matrix = matrix / np.sqrt((matrix ** 2).sum(axis=0))\n",
    "    # Step 2: Multiply by weights\n",
    "    weighted_matrix = norm_matrix * weights\n",
    "\n",
    "    # Step 3: Determine ideal best and worst for each criterion\n",
    "    ideal_best = np.array([\n",
    "        weighted_matrix[:, j].max() if impacts[j] == '+' else weighted_matrix[:, j].min()\n",
    "        for j in range(weighted_matrix.shape[1])\n",
    "    ])\n",
    "    ideal_worst = np.array([\n",
    "        weighted_matrix[:, j].min() if impacts[j] == '+' else weighted_matrix[:, j].max()\n",
    "        for j in range(weighted_matrix.shape[1])\n",
    "    ])\n",
    "\n",
    "    # Step 4: Calculate distances to ideal best and worst\n",
    "    dist_best = np.sqrt(((weighted_matrix - ideal_best) ** 2).sum(axis=1))\n",
    "    dist_worst = np.sqrt(((weighted_matrix - ideal_worst) ** 2).sum(axis=1))\n",
    "\n",
    "    # Step 5: Calculate TOPSIS scores\n",
    "    score = dist_worst / (dist_best + dist_worst)\n",
    "\n",
    "    # Step 6: Ranking\n",
    "    ranking = (-score).argsort().argsort() + 1\n",
    "\n",
    "\n",
    "    # Prepare DataFrame for output\n",
    "    df = pd.DataFrame(matrix, columns=criteria, index=sites)\n",
    "    df['TOPSIS Score'] = score\n",
    "    df['Rank'] = ranking\n",
    "    df = df.sort_values('Rank') \n",
    "    return df\n",
    "\n",
    "# Run the analysis\n",
    "result_df = topsis(matrix, weights, impacts, sites, criteria)\n",
    "print(result_df)\n"
   ]
  },
  {
   "cell_type": "code",
   "execution_count": null,
   "id": "cf5348cc",
   "metadata": {},
   "outputs": [],
   "source": []
  }
 ],
 "metadata": {
  "kernelspec": {
   "display_name": "base",
   "language": "python",
   "name": "python3"
  },
  "language_info": {
   "codemirror_mode": {
    "name": "ipython",
    "version": 3
   },
   "file_extension": ".py",
   "mimetype": "text/x-python",
   "name": "python",
   "nbconvert_exporter": "python",
   "pygments_lexer": "ipython3",
   "version": "3.12.7"
  }
 },
 "nbformat": 4,
 "nbformat_minor": 5
}
