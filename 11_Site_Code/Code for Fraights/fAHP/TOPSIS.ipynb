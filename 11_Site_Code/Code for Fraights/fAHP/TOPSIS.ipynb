{
 "cells": [
  {
   "cell_type": "code",
   "execution_count": 2,
   "id": "31fe176a",
   "metadata": {},
   "outputs": [
    {
     "name": "stdout",
     "output_type": "stream",
     "text": [
      "           C1     C2     C3     C4  TOPSIS Score  Rank\n",
      "Site6   0.304  0.052  0.112  0.062      0.567761     1\n",
      "Site5   0.028  0.081  0.235  0.071      0.526342     2\n",
      "Site9   0.028  0.144  0.136  0.095      0.411323     3\n",
      "Site1   0.181  0.074  0.067  0.101      0.369306     4\n",
      "Site10  0.014  0.076  0.148  0.081      0.357069     5\n",
      "Site7   0.038  0.143  0.032  0.131      0.261738     6\n",
      "Site11  0.009  0.132  0.065  0.063      0.256474     7\n",
      "Site4   0.033  0.078  0.076  0.080      0.180406     8\n",
      "Site2   0.078  0.055  0.049  0.093      0.157131     9\n",
      "Site8   0.014  0.095  0.045  0.134      0.144452    10\n",
      "Site3   0.021  0.069  0.035  0.090      0.063689    11\n"
     ]
    }
   ],
   "source": [
    "\n",
    "import numpy as np\n",
    "import pandas as pd\n",
    "\n",
    "criteria = ['C1', 'C2', 'C3', 'C4']\n",
    "sites = ['Site1', 'Site2', 'Site3', 'Site4', 'Site5', 'Site6', 'Site7', 'Site8', 'Site9', 'Site10', 'Site11']\n",
    "\n",
    "matrix = np.array([\n",
    "    [0.181, 0.074, 0.067, 0.101],\n",
    "    [0.078, 0.055, 0.049, 0.093],\n",
    "    [0.021, 0.069, 0.035, 0.09],\n",
    "    [0.033, 0.078, 0.076, 0.08],\n",
    "    [0.028, 0.081, 0.235, 0.071],\n",
    "    [0.304, 0.052, 0.112, 0.062],\n",
    "    [0.038, 0.143, 0.032, 0.131],\n",
    "    [0.014, 0.095, 0.045, 0.134],\n",
    "    [0.028, 0.144, 0.136, 0.095],\n",
    "    [0.014, 0.076, 0.148, 0.081],\n",
    "    [0.009, 0.132, 0.065, 0.063]\n",
    "])\n",
    "\n",
    "weights = np.array([0.25377794, 0.35076977, 0.39287723, 0.00257506])\n",
    "impacts = ['+', '+', '+', '+']\n",
    "\n",
    "def topsis(matrix, weights, impacts, sites, criteria):\n",
    "    # Step 1: Normalize the decision matrix\n",
    "    norm_matrix = matrix / np.sqrt((matrix ** 2).sum(axis=0))\n",
    "    # Step 2: Multiply by weights\n",
    "    weighted_matrix = norm_matrix * weights\n",
    "\n",
    "    # Step 3: Determine ideal best and worst for each criterion\n",
    "    ideal_best = np.array([\n",
    "        weighted_matrix[:, j].max() if impacts[j] == '+' else weighted_matrix[:, j].min()\n",
    "        for j in range(weighted_matrix.shape[1])\n",
    "    ])\n",
    "    ideal_worst = np.array([\n",
    "        weighted_matrix[:, j].min() if impacts[j] == '+' else weighted_matrix[:, j].max()\n",
    "        for j in range(weighted_matrix.shape[1])\n",
    "    ])\n",
    "\n",
    "    # Step 4: Calculate distances to ideal best and worst\n",
    "    dist_best = np.sqrt(((weighted_matrix - ideal_best) ** 2).sum(axis=1))\n",
    "    dist_worst = np.sqrt(((weighted_matrix - ideal_worst) ** 2).sum(axis=1))\n",
    "\n",
    "    # Step 5: Calculate TOPSIS scores\n",
    "    score = dist_worst / (dist_best + dist_worst)\n",
    "\n",
    "    # Step 6: Ranking\n",
    "    ranking = (-score).argsort().argsort() + 1\n",
    "\n",
    "\n",
    "    # Prepare DataFrame for output\n",
    "    df = pd.DataFrame(matrix, columns=criteria, index=sites)\n",
    "    df['TOPSIS Score'] = score\n",
    "    df['Rank'] = ranking\n",
    "    df = df.sort_values('Rank') \n",
    "    return df\n",
    "\n",
    "# Run the analysis\n",
    "result_df = topsis(matrix, weights, impacts, sites, criteria)\n",
    "print(result_df)\n"
   ]
  },
  {
   "cell_type": "code",
   "execution_count": null,
   "id": "6e8e6271",
   "metadata": {},
   "outputs": [],
   "source": []
  }
 ],
 "metadata": {
  "kernelspec": {
   "display_name": "base",
   "language": "python",
   "name": "python3"
  },
  "language_info": {
   "codemirror_mode": {
    "name": "ipython",
    "version": 3
   },
   "file_extension": ".py",
   "mimetype": "text/x-python",
   "name": "python",
   "nbconvert_exporter": "python",
   "pygments_lexer": "ipython3",
   "version": "3.12.7"
  }
 },
 "nbformat": 4,
 "nbformat_minor": 5
}
