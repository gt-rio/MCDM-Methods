{
 "cells": [
  {
   "cell_type": "code",
   "execution_count": null,
   "id": "9d3cfc80",
   "metadata": {},
   "outputs": [
    {
     "name": "stdout",
     "output_type": "stream",
     "text": [
      "          C1     C2     C3     C4  TOPSIS Score  Rank\n",
      "Site2  0.199  0.105  0.304  0.104      0.778975     1\n",
      "Site6  0.178  0.152  0.157  0.116      0.542334     2\n",
      "Site1  0.134  0.140  0.160  0.140      0.502652     3\n",
      "Site8  0.188  0.070  0.160  0.131      0.468924     4\n",
      "Site5  0.103  0.185  0.041  0.206      0.327107     5\n",
      "Site3  0.156  0.093  0.061  0.084      0.271086     6\n",
      "Site7  0.021  0.128  0.069  0.091      0.196392     7\n",
      "Site4  0.021  0.128  0.050  0.128      0.174293     8\n"
     ]
    }
   ],
   "source": [
    "\n",
    "import numpy as np\n",
    "import pandas as pd\n",
    "\n",
    "\n",
    "# Define criteria and site names\n",
    "criteria = ['C1', 'C2', 'C3', 'C4']\n",
    "sites = ['Site1', 'Site2', 'Site3', 'Site4', 'Site5', 'Site6', 'Site7', 'Site8']\n",
    "\n",
    "matrix = np.array([\n",
    "    [0.134, 0.140, 0.160, 0.140],\n",
    "    [0.199, 0.105, 0.304, 0.104],\n",
    "    [0.156, 0.093, 0.061, 0.084],\n",
    "    [0.021, 0.128, 0.050, 0.128],\n",
    "    [0.103, 0.185, 0.041, 0.206],\n",
    "    [0.178, 0.152, 0.157, 0.116],\n",
    "    [0.021, 0.128, 0.069, 0.091],\n",
    "    [0.188, 0.070, 0.160, 0.131]\n",
    "])\n",
    "\n",
    "weights = np.array([0.25377794, 0.35076977, 0.39287723, 0.00257506])\n",
    "impacts = ['+', '+', '+', '+']\n",
    "\n",
    "def topsis(matrix, weights, impacts, sites, criteria):\n",
    "    # Step 1: Normalize the decision matrix\n",
    "    norm_matrix = matrix / np.sqrt((matrix ** 2).sum(axis=0))\n",
    "    # Step 2: Multiply by weights\n",
    "    weighted_matrix = norm_matrix * weights\n",
    "\n",
    "    # Step 3: Determine ideal best and worst for each criterion\n",
    "    ideal_best = np.array([\n",
    "        weighted_matrix[:, j].max() if impacts[j] == '+' else weighted_matrix[:, j].min()\n",
    "        for j in range(weighted_matrix.shape[1])\n",
    "    ])\n",
    "    ideal_worst = np.array([\n",
    "        weighted_matrix[:, j].min() if impacts[j] == '+' else weighted_matrix[:, j].max()\n",
    "        for j in range(weighted_matrix.shape[1])\n",
    "    ])\n",
    "\n",
    "    # Step 4: Calculate distances to ideal best and worst\n",
    "    dist_best = np.sqrt(((weighted_matrix - ideal_best) ** 2).sum(axis=1))\n",
    "    dist_worst = np.sqrt(((weighted_matrix - ideal_worst) ** 2).sum(axis=1))\n",
    "\n",
    "    # Step 5: Calculate TOPSIS scores\n",
    "    score = dist_worst / (dist_best + dist_worst)\n",
    "\n",
    "    # Step 6: Ranking\n",
    "    ranking = (-score).argsort().argsort() + 1\n",
    "\n",
    "\n",
    "    # Prepare DataFrame for output\n",
    "    df = pd.DataFrame(matrix, columns=criteria, index=sites)\n",
    "    df['TOPSIS Score'] = score\n",
    "    df['Rank'] = ranking\n",
    "    df = df.sort_values('Rank') \n",
    "    return df\n",
    "\n",
    "# Run the analysis\n",
    "result_df = topsis(matrix, weights, impacts, sites, criteria)\n",
    "print(result_df)\n"
   ]
  },
  {
   "cell_type": "code",
   "execution_count": null,
   "id": "c65619b2",
   "metadata": {},
   "outputs": [],
   "source": []
  }
 ],
 "metadata": {
  "kernelspec": {
   "display_name": "Python 3",
   "language": "python",
   "name": "python3"
  },
  "language_info": {
   "codemirror_mode": {
    "name": "ipython",
    "version": 3
   },
   "file_extension": ".py",
   "mimetype": "text/x-python",
   "name": "python",
   "nbconvert_exporter": "python",
   "pygments_lexer": "ipython3",
   "version": "3.12.7"
  }
 },
 "nbformat": 4,
 "nbformat_minor": 5
}
