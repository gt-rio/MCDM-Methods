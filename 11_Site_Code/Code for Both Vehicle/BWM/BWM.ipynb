{
 "cells": [
  {
   "cell_type": "code",
   "execution_count": 1,
   "id": "e308ab64",
   "metadata": {},
   "outputs": [
    {
     "name": "stdout",
     "output_type": "stream",
     "text": [
      "           Score  Rank\n",
      "Site5   0.665246     1\n",
      "Site9   0.511681     2\n",
      "Site10  0.475165     3\n",
      "Site6   0.440500     4\n",
      "Site11  0.440041     5\n",
      "Site1   0.377420     6\n",
      "Site7   0.313557     7\n",
      "Site3   0.302796     8\n",
      "Site2   0.287134     9\n",
      "Site4   0.274114    10\n",
      "Site8   0.147662    11\n"
     ]
    }
   ],
   "source": [
    "\n",
    "import numpy as np\n",
    "import pandas as pd\n",
    "from scipy.stats import rankdata\n",
    "\n",
    "matrix = np.array([\n",
    "    [0.156, 0.075, 0.099, 0.101],\n",
    "    [0.081, 0.072, 0.081, 0.093],\n",
    "    [0.055, 0.086, 0.067, 0.090],\n",
    "    [0.055, 0.070, 0.080, 0.080],\n",
    "    [0.067, 0.081, 0.238, 0.071],\n",
    "    [0.243, 0.057, 0.117, 0.062],\n",
    "    [0.032, 0.128, 0.017, 0.131],\n",
    "    [0.023, 0.088, 0.022, 0.134],\n",
    "    [0.030, 0.119, 0.112, 0.095],\n",
    "    [0.081, 0.092, 0.125, 0.081],\n",
    "    [0.011, 0.131, 0.042, 0.063]\n",
    "])\n",
    "\n",
    "sites = ['Site1', 'Site2', 'Site3', 'Site4', 'Site5', 'Site6', 'Site7', 'Site8', 'Site9', 'Site10', 'Site11']\n",
    "criteria_types = ['max', 'max', 'max', 'min'] \n",
    "\n",
    "weights = np.array([0.15288888, 0.30888675, 0.45773133, 0.080493041])\n",
    "\n",
    "def normalize_matrix(matrix, criteria_types):\n",
    "    norm_matrix = np.zeros_like(matrix, dtype=float)\n",
    "    for j in range(matrix.shape[1]):\n",
    "        col = matrix[:, j]\n",
    "        if criteria_types[j] == 'max':\n",
    "            norm_matrix[:, j] = (col - np.min(col)) / (np.max(col) - np.min(col))\n",
    "        else:  # 'min'\n",
    "            norm_matrix[:, j] = (np.max(col) - col) / (np.max(col) - np.min(col))\n",
    "    return norm_matrix\n",
    "\n",
    "norm_matrix = normalize_matrix(matrix, criteria_types)\n",
    "scores = np.dot(norm_matrix, weights)\n",
    "ranks = rankdata(-scores, method='min')\n",
    "\n",
    "result_df = pd.DataFrame({\n",
    "    'Score': scores,\n",
    "    'Rank': ranks\n",
    "}, index=sites).sort_values('Rank')\n",
    "\n",
    "print(result_df)\n"
   ]
  },
  {
   "cell_type": "code",
   "execution_count": null,
   "id": "709244d1",
   "metadata": {},
   "outputs": [],
   "source": []
  }
 ],
 "metadata": {
  "kernelspec": {
   "display_name": "base",
   "language": "python",
   "name": "python3"
  },
  "language_info": {
   "codemirror_mode": {
    "name": "ipython",
    "version": 3
   },
   "file_extension": ".py",
   "mimetype": "text/x-python",
   "name": "python",
   "nbconvert_exporter": "python",
   "pygments_lexer": "ipython3",
   "version": "3.12.7"
  }
 },
 "nbformat": 4,
 "nbformat_minor": 5
}
