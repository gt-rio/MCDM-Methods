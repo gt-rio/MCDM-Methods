{
 "cells": [
  {
   "cell_type": "code",
   "execution_count": 2,
   "id": "f3328ebf",
   "metadata": {},
   "outputs": [
    {
     "name": "stdout",
     "output_type": "stream",
     "text": [
      "        Fuzzy AHP Score  Rank\n",
      "Site8          0.574414     1\n",
      "Site4          0.525243     2\n",
      "Site5          0.409373     3\n",
      "Site6          0.373714     4\n",
      "Site10         0.371330     5\n",
      "Site9          0.329879     6\n",
      "Site1          0.313894     7\n",
      "Site3          0.204783     8\n",
      "Site7          0.191080     9\n",
      "Site2          0.135203    10\n"
     ]
    }
   ],
   "source": [
    "\n",
    "import numpy as np\n",
    "import pandas as pd\n",
    "from scipy.stats import rankdata\n",
    "\n",
    "# Alternatives-by-criteria matrix (8 sites, 4 criteria)\n",
    "matrix = np.array([\n",
    "    [0.191, 0.081, 0.067, 0.111],\n",
    "    [0.082, 0.059, 0.063, 0.102],\n",
    "    [0.036, 0.083, 0.076, 0.088],\n",
    "    [0.029, 0.088, 0.235, 0.078],\n",
    "    [0.306, 0.055, 0.113, 0.068],\n",
    "    [0.038, 0.154, 0.033, 0.144],\n",
    "    [0.014, 0.100, 0.047, 0.148],\n",
    "    [0.029, 0.155, 0.139, 0.105],\n",
    "    [0.014, 0.083, 0.150, 0.089], \n",
    "    [0.010, 0.142, 0.067, 0.069]\n",
    "])\n",
    "\n",
    "sites = ['Site1', 'Site2', 'Site3', 'Site4', 'Site5', 'Site6', 'Site7', 'Site8', 'Site9', 'Site10']\n",
    "criteria = ['C1', 'C2', 'C3', 'C4']\n",
    "criteria_types = ['max', 'max', 'max', 'max'] \n",
    "weights = np.array([0.25377794, 0.35076977, 0.39287723, 0.00257506]) \n",
    "\n",
    "# NORMALIZATION FUNCTION\n",
    "def normalize_matrix(matrix, criteria_types):\n",
    "    norm_matrix = np.zeros_like(matrix, dtype=float)\n",
    "    for j in range(matrix.shape[1]):\n",
    "        col = matrix[:, j]\n",
    "        if criteria_types[j] == 'max':\n",
    "            norm_matrix[:, j] = (col - np.min(col)) / (np.max(col) - np.min(col))\n",
    "        else:  # 'min'\n",
    "            norm_matrix[:, j] = (np.max(col) - col) / (np.max(col) - np.min(col))\n",
    "    return norm_matrix\n",
    "\n",
    "# CALCULATE FUZZY AHP SCORES AND RANKINGS\n",
    "norm_matrix = normalize_matrix(matrix, criteria_types)\n",
    "overall_scores = np.dot(norm_matrix, weights)\n",
    "\n",
    "# Rank using scipy to handle ties properly\n",
    "from scipy.stats import rankdata\n",
    "ranks = rankdata(-overall_scores, method='min')  # Descending order\n",
    "\n",
    "# Display result\n",
    "df_result = pd.DataFrame({\n",
    "    'Fuzzy AHP Score': overall_scores,\n",
    "    'Rank': ranks\n",
    "}, index=sites).sort_values('Rank')\n",
    "\n",
    "print(df_result)\n"
   ]
  },
  {
   "cell_type": "code",
   "execution_count": null,
   "id": "9712ae05",
   "metadata": {},
   "outputs": [],
   "source": []
  }
 ],
 "metadata": {
  "kernelspec": {
   "display_name": "base",
   "language": "python",
   "name": "python3"
  },
  "language_info": {
   "codemirror_mode": {
    "name": "ipython",
    "version": 3
   },
   "file_extension": ".py",
   "mimetype": "text/x-python",
   "name": "python",
   "nbconvert_exporter": "python",
   "pygments_lexer": "ipython3",
   "version": "3.12.7"
  }
 },
 "nbformat": 4,
 "nbformat_minor": 5
}
