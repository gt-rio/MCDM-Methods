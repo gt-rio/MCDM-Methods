{
 "cells": [
  {
   "cell_type": "code",
   "execution_count": null,
   "id": "261ff942",
   "metadata": {},
   "outputs": [
    {
     "name": "stdout",
     "output_type": "stream",
     "text": [
      "          Score  Rank\n",
      "Site2  0.771927     1\n",
      "Site6  0.616370     2\n",
      "Site1  0.535732     3\n",
      "Site8  0.400034     4\n",
      "Site5  0.379319     5\n",
      "Site3  0.293034     6\n",
      "Site7  0.280393     7\n",
      "Site4  0.222913     8\n"
     ]
    }
   ],
   "source": [
    "\n",
    "import numpy as np\n",
    "import pandas as pd\n",
    "from scipy.stats import rankdata\n",
    "\n",
    "matrix = np.array([\n",
    "    [0.134, 0.140, 0.160, 0.140],\n",
    "    [0.199, 0.105, 0.304, 0.104],\n",
    "    [0.156, 0.093, 0.061, 0.084],\n",
    "    [0.021, 0.128, 0.050, 0.128],\n",
    "    [0.103, 0.185, 0.041, 0.206],\n",
    "    [0.178, 0.152, 0.157, 0.116],\n",
    "    [0.021, 0.128, 0.069, 0.091],\n",
    "    [0.188, 0.070, 0.160, 0.131]\n",
    "])\n",
    "\n",
    "sites = ['Site1', 'Site2', 'Site3', 'Site4', 'Site5', 'Site6', 'Site7', 'Site8']\n",
    "criteria_types = ['max', 'max', 'max', 'min'] \n",
    "\n",
    "weights = np.array([0.15288888, 0.30888675, 0.45773133, 0.080493041])\n",
    "\n",
    "def normalize_matrix(matrix, criteria_types):\n",
    "    norm_matrix = np.zeros_like(matrix, dtype=float)\n",
    "    for j in range(matrix.shape[1]):\n",
    "        col = matrix[:, j]\n",
    "        if criteria_types[j] == 'max':\n",
    "            norm_matrix[:, j] = (col - np.min(col)) / (np.max(col) - np.min(col))\n",
    "        else:  # 'min'\n",
    "            norm_matrix[:, j] = (np.max(col) - col) / (np.max(col) - np.min(col))\n",
    "    return norm_matrix\n",
    "\n",
    "norm_matrix = normalize_matrix(matrix, criteria_types)\n",
    "scores = np.dot(norm_matrix, weights)\n",
    "ranks = rankdata(-scores, method='min')\n",
    "\n",
    "result_df = pd.DataFrame({\n",
    "    'Score': scores,\n",
    "    'Rank': ranks\n",
    "}, index=sites).sort_values('Rank')\n",
    "\n",
    "print(result_df)\n"
   ]
  },
  {
   "cell_type": "code",
   "execution_count": null,
   "id": "0a64e5bf",
   "metadata": {},
   "outputs": [],
   "source": []
  }
 ],
 "metadata": {
  "kernelspec": {
   "display_name": "Python 3",
   "language": "python",
   "name": "python3"
  },
  "language_info": {
   "codemirror_mode": {
    "name": "ipython",
    "version": 3
   },
   "file_extension": ".py",
   "mimetype": "text/x-python",
   "name": "python",
   "nbconvert_exporter": "python",
   "pygments_lexer": "ipython3",
   "version": "3.12.7"
  }
 },
 "nbformat": 4,
 "nbformat_minor": 5
}
